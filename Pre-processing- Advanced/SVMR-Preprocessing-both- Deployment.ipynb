{
 "cells": [
  {
   "cell_type": "code",
   "execution_count": null,
   "id": "4cd0a909",
   "metadata": {},
   "outputs": [],
   "source": [
    "import pickle\n",
    "scx=pickle.load(open(\"common_datasetscx.pkl\",'rb'))\n",
    "scy=pickle.load(open(\"common_datasetscy.pkl\",'rb'))"
   ]
  },
  {
   "cell_type": "code",
   "execution_count": null,
   "id": "3c8593ea",
   "metadata": {},
   "outputs": [],
   "source": [
    "preprocess_input=scx.transform([[42,43,2,0,1]])"
   ]
  },
  {
   "cell_type": "code",
   "execution_count": null,
   "id": "209a3595",
   "metadata": {},
   "outputs": [],
   "source": [
    "preprocess_input"
   ]
  },
  {
   "cell_type": "code",
   "execution_count": null,
   "id": "2a84ba3d",
   "metadata": {},
   "outputs": [],
   "source": [
    "loaded_model= pickle.load(open(\"finalized_model_svm.sav\",'rb'))\n",
    "result=loaded_model.predict(preprocess_input)\n",
    "result"
   ]
  },
  {
   "cell_type": "code",
   "execution_count": null,
   "id": "a2046ddb",
   "metadata": {},
   "outputs": [],
   "source": [
    "Actual_result=scy.inverse_transform([result])"
   ]
  },
  {
   "cell_type": "code",
   "execution_count": null,
   "id": "4a821581",
   "metadata": {},
   "outputs": [],
   "source": [
    "Actual_result"
   ]
  },
  {
   "cell_type": "code",
   "execution_count": null,
   "id": "e26566e6",
   "metadata": {},
   "outputs": [],
   "source": []
  }
 ],
 "metadata": {
  "kernelspec": {
   "display_name": "Python 3 (ipykernel)",
   "language": "python",
   "name": "python3"
  },
  "language_info": {
   "codemirror_mode": {
    "name": "ipython",
    "version": 3
   },
   "file_extension": ".py",
   "mimetype": "text/x-python",
   "name": "python",
   "nbconvert_exporter": "python",
   "pygments_lexer": "ipython3",
   "version": "3.11.5"
  }
 },
 "nbformat": 4,
 "nbformat_minor": 5
}
