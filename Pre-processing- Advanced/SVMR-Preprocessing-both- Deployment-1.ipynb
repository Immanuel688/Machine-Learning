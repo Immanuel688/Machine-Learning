{
 "cells": [
  {
   "cell_type": "code",
   "execution_count": 8,
   "id": "4cd0a909",
   "metadata": {},
   "outputs": [],
   "source": [
    "import pandas as pd\n",
    "import pickle\n",
    "dataset=pd.read_csv(\"insurance_pre.csv\")\n",
    "dataset=pd.get_dummies(dataset,dtype=int,drop_first=True)\n",
    "independent=dataset[['age', 'bmi', 'children','sex_male', 'smoker_yes']]\n",
    "dependent=dataset[['charges']]\n",
    "from sklearn.model_selection import train_test_split\n",
    "X_train,X_test,y_train,y_test=train_test_split(independent,dependent,test_size=0.30,random_state=0)"
   ]
  },
  {
   "cell_type": "code",
   "execution_count": 9,
   "id": "634da74b",
   "metadata": {},
   "outputs": [],
   "source": [
    "from sklearn.preprocessing import StandardScaler\n",
    "scx=StandardScaler()\n",
    "X_train=scx.fit_transform(X_train)\n",
    "X_test=scx.transform(X_test)\n",
    "scy=StandardScaler()\n",
    "y_train=scy.fit_transform(y_train)\n",
    "y_test=scy.transform(y_test)"
   ]
  },
  {
   "cell_type": "code",
   "execution_count": 10,
   "id": "3c8593ea",
   "metadata": {},
   "outputs": [
    {
     "name": "stderr",
     "output_type": "stream",
     "text": [
      "C:\\Anaconda3run\\Lib\\site-packages\\sklearn\\base.py:464: UserWarning: X does not have valid feature names, but StandardScaler was fitted with feature names\n",
      "  warnings.warn(\n"
     ]
    }
   ],
   "source": [
    "preprocess_input=scx.transform([[42,43,2,0,1]])"
   ]
  },
  {
   "cell_type": "code",
   "execution_count": 11,
   "id": "209a3595",
   "metadata": {},
   "outputs": [
    {
     "data": {
      "text/plain": [
       "array([[ 0.18056632,  1.96520079,  0.76341038, -0.97676557,  1.98149332]])"
      ]
     },
     "execution_count": 11,
     "metadata": {},
     "output_type": "execute_result"
    }
   ],
   "source": [
    "preprocess_input"
   ]
  },
  {
   "cell_type": "code",
   "execution_count": 12,
   "id": "2a84ba3d",
   "metadata": {},
   "outputs": [
    {
     "data": {
      "text/plain": [
       "array([2.87398952])"
      ]
     },
     "execution_count": 12,
     "metadata": {},
     "output_type": "execute_result"
    }
   ],
   "source": [
    "loaded_model= pickle.load(open(\"finalized_model_svm.sav\",'rb'))\n",
    "result=loaded_model.predict(preprocess_input)\n",
    "result"
   ]
  },
  {
   "cell_type": "code",
   "execution_count": 13,
   "id": "a2046ddb",
   "metadata": {},
   "outputs": [],
   "source": [
    "Actual_result=scy.inverse_transform([result])"
   ]
  },
  {
   "cell_type": "code",
   "execution_count": 14,
   "id": "4a821581",
   "metadata": {},
   "outputs": [
    {
     "data": {
      "text/plain": [
       "array([[47357.98515824]])"
      ]
     },
     "execution_count": 14,
     "metadata": {},
     "output_type": "execute_result"
    }
   ],
   "source": [
    "Actual_result"
   ]
  },
  {
   "cell_type": "code",
   "execution_count": null,
   "id": "e26566e6",
   "metadata": {},
   "outputs": [],
   "source": []
  }
 ],
 "metadata": {
  "kernelspec": {
   "display_name": "Python 3 (ipykernel)",
   "language": "python",
   "name": "python3"
  },
  "language_info": {
   "codemirror_mode": {
    "name": "ipython",
    "version": 3
   },
   "file_extension": ".py",
   "mimetype": "text/x-python",
   "name": "python",
   "nbconvert_exporter": "python",
   "pygments_lexer": "ipython3",
   "version": "3.11.5"
  }
 },
 "nbformat": 4,
 "nbformat_minor": 5
}
