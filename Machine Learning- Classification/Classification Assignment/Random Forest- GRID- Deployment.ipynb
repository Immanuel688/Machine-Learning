{
 "cells": [
  {
   "cell_type": "code",
   "execution_count": 1,
   "id": "cf88ed73",
   "metadata": {},
   "outputs": [],
   "source": [
    "import pickle\n",
    "sc= pickle.load(open(\"std_dataset_RF.pkl\",'rb'))"
   ]
  },
  {
   "cell_type": "code",
   "execution_count": 2,
   "id": "a9d4d76f",
   "metadata": {},
   "outputs": [
    {
     "name": "stderr",
     "output_type": "stream",
     "text": [
      "C:\\Anaconda3run\\Lib\\site-packages\\sklearn\\base.py:464: UserWarning: X does not have valid feature names, but StandardScaler was fitted with feature names\n",
      "  warnings.warn(\n"
     ]
    },
    {
     "data": {
      "text/plain": [
       "array([[-1.25720128e-01,  1.18386687e+00,  7.43679000e+00,\n",
       "         4.68015545e+00, -3.88079651e-01, -2.48869935e-03,\n",
       "        -2.86774811e-01,  5.15346177e-01, -2.58764074e-01,\n",
       "        -1.75196181e-01,  2.70805503e+00, -1.31927538e-01,\n",
       "         3.97885360e-01, -4.92940822e-01, -5.45491499e-01,\n",
       "        -4.51242628e-01, -1.38409133e-01,  3.89249472e-01,\n",
       "         5.10552159e-01, -3.42997170e-01,  4.24264069e+00,\n",
       "         1.35269628e+00,  1.35269628e+00, -2.92770022e-01,\n",
       "        -1.93649167e+00, -5.22232968e-01, -4.45194562e-01]])"
      ]
     },
     "execution_count": 2,
     "metadata": {},
     "output_type": "execute_result"
    }
   ],
   "source": [
    "pre_input=sc.transform([[50,92,10,5,120,60,1.5,143,4,12,61,8000,5,0,0,0,0,1,1,0,1,1,1,0,0,0,0]])\n",
    "pre_input"
   ]
  },
  {
   "cell_type": "code",
   "execution_count": 3,
   "id": "8eb15274",
   "metadata": {},
   "outputs": [
    {
     "data": {
      "text/plain": [
       "array([1])"
      ]
     },
     "execution_count": 3,
     "metadata": {},
     "output_type": "execute_result"
    }
   ],
   "source": [
    "final_model=pickle.load(open(\"final_modelCKD_RF.sav\",'rb'))\n",
    "result= final_model.predict(pre_input)\n",
    "result"
   ]
  },
  {
   "cell_type": "code",
   "execution_count": null,
   "id": "7f3e911e",
   "metadata": {},
   "outputs": [],
   "source": []
  }
 ],
 "metadata": {
  "kernelspec": {
   "display_name": "Python 3 (ipykernel)",
   "language": "python",
   "name": "python3"
  },
  "language_info": {
   "codemirror_mode": {
    "name": "ipython",
    "version": 3
   },
   "file_extension": ".py",
   "mimetype": "text/x-python",
   "name": "python",
   "nbconvert_exporter": "python",
   "pygments_lexer": "ipython3",
   "version": "3.11.5"
  }
 },
 "nbformat": 4,
 "nbformat_minor": 5
}
